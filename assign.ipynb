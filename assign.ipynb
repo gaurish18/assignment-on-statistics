{
 "cells": [
  {
   "cell_type": "code",
   "execution_count": 1,
   "id": "a46003ad-18a0-4d2e-a0cb-c45509cc7422",
   "metadata": {},
   "outputs": [
    {
     "ename": "SyntaxError",
     "evalue": "invalid decimal literal (3818864335.py, line 1)",
     "output_type": "error",
     "traceback": [
      "\u001b[0;36m  Cell \u001b[0;32mIn[1], line 1\u001b[0;36m\u001b[0m\n\u001b[0;31m    1.The Probability Density Function defines the probability function representing the density of a continuous random variable\u001b[0m\n\u001b[0m     ^\u001b[0m\n\u001b[0;31mSyntaxError\u001b[0m\u001b[0;31m:\u001b[0m invalid decimal literal\n"
     ]
    }
   ],
   "source": [
    "1.The Probability Density Function defines the probability function representing the density of a continuous random variable\n",
    "lying between a specific range of values. In other words, the probability density function produces the likelihood of\n",
    "values of the continuous random variable.\n",
    "\n",
    "2.There are several types of probability distributions that are commonly used in probability theory and statistics.\n",
    "Some of the most common types of probability distributions include:\n",
    "    a)Uniform Distribution\n",
    "    b)Normal Distribution \n",
    "    c)Binomial Distribution \n",
    "    d)Poisson Distribution\n",
    "    e)Exponential Distribution\n",
    "    f)Bernoulli Distribution\n",
    "    "
   ]
  },
  {
   "cell_type": "code",
   "execution_count": 2,
   "id": "0d696254-0036-4421-8e79-c813249c1026",
   "metadata": {},
   "outputs": [],
   "source": [
    "import math"
   ]
  },
  {
   "cell_type": "code",
   "execution_count": 8,
   "id": "a150b28a-9daa-4fb9-8caf-820f1bfe81f7",
   "metadata": {},
   "outputs": [],
   "source": [
    "def normal_pdf(x, mean, std_dev):\n",
    "    exponent = -0.5 * ((x - mean) / std_dev) ** 2\n",
    "    coefficient = 1 / (std_dev * math.sqrt(2 * math.pi))\n",
    "    pdf = coefficient * math.exp(exponent)\n",
    "    return pdf"
   ]
  },
  {
   "cell_type": "code",
   "execution_count": 9,
   "id": "f91cd69c-5613-4791-a29c-175b459d187c",
   "metadata": {},
   "outputs": [
    {
     "name": "stdout",
     "output_type": "stream",
     "text": [
      "PDF at x = 1.5 is 0.12951759566589174\n"
     ]
    }
   ],
   "source": [
    "mean = 0\n",
    "std_dev = 1\n",
    "x = 1.5\n",
    "\n",
    "pdf = normal_pdf(x, mean, std_dev)\n",
    "print(\"PDF at x =\", x, \"is\", pdf)"
   ]
  },
  {
   "cell_type": "code",
   "execution_count": 10,
   "id": "46618410-4d99-4a68-8426-160099881628",
   "metadata": {},
   "outputs": [
    {
     "ename": "SyntaxError",
     "evalue": "invalid decimal literal (4094912795.py, line 1)",
     "output_type": "error",
     "traceback": [
      "\u001b[0;36m  Cell \u001b[0;32mIn[10], line 1\u001b[0;36m\u001b[0m\n\u001b[0;31m    4.The binomial distribution is a discrete probability distribution that models the number of successes\u001b[0m\n\u001b[0m     ^\u001b[0m\n\u001b[0;31mSyntaxError\u001b[0m\u001b[0;31m:\u001b[0m invalid decimal literal\n"
     ]
    }
   ],
   "source": [
    "4.The binomial distribution is a discrete probability distribution that models the number of successes\n",
    "in a fixed number of independent and identically distributed (i.i.d.) Bernoulli trials.\n",
    "The properties of the binomial distribution are as follows:\n",
    "    \n",
    "    a)Fixed number of trials: The binomial distribution assumes a fixed number of trials denoted by \"n\",\n",
    "      where each trial is independent of the others.\n",
    "\n",
    "    b)Two possible outcomes: Each trial in a binomial distribution has only two possible outcomes,\n",
    "      commonly referred to as \"success\" and \"failure\".\n",
    "\n",
    "    c)Probability of success: The probability of success on a single trial is denoted by \"p\" and remains constant \n",
    "     across all trials.\n",
    "        \n",
    "    d)Independence of trials: Each trial in a binomial distribution is assumed to be independent,\n",
    "     meaning the outcome of one trial does not affect the outcome of any other trial.\n",
    "\n",
    "    e)Discrete distribution: The binomial distribution is a discrete probability distribution, \n",
    "      meaning that the number of successes (or failures) must be a whole number.\n",
    "        \n",
    "Examples of events where the binomial distribution can be applied are, Tossing a coin and qualty control\n",
    "        "
   ]
  },
  {
   "cell_type": "code",
   "execution_count": 11,
   "id": "108619f3-1174-43e7-b639-f3822ee73c9f",
   "metadata": {},
   "outputs": [],
   "source": [
    "import numpy as np"
   ]
  },
  {
   "cell_type": "code",
   "execution_count": 12,
   "id": "dc169355-60e8-4582-9a8a-54222c4c4b6f",
   "metadata": {},
   "outputs": [],
   "source": [
    "n= 1000\n",
    "p= 0.4\n",
    "sample= np.random.binomial(1,p,n)"
   ]
  },
  {
   "cell_type": "code",
   "execution_count": 14,
   "id": "b6747c43-a8f0-4a64-aaef-91bc4e081008",
   "metadata": {},
   "outputs": [
    {
     "name": "stdout",
     "output_type": "stream",
     "text": [
      "Random Sample (first 10 values): [0 0 0 1 1 1 0 1 1 1]\n"
     ]
    }
   ],
   "source": [
    "print(\"Random Sample (first 10 values):\", sample[:10])"
   ]
  },
  {
   "cell_type": "code",
   "execution_count": 1,
   "id": "e0e89821-fd12-4db3-90ff-45a66dd5f647",
   "metadata": {},
   "outputs": [],
   "source": [
    "import matplotlib.pyplot as plt"
   ]
  },
  {
   "cell_type": "code",
   "execution_count": 4,
   "id": "5a529d49-82cc-46ce-b3ec-fd37f37297f7",
   "metadata": {},
   "outputs": [],
   "source": [
    "def plot_data(df,feature):\n",
    "    plt.figure(figsize=(10,6))\n",
    "    plt.subplot(1,2,1)\n",
    "    df[feature].hist()\n",
    "    plt.subplot(1,2,2)\n",
    "    stat.probplot(df[feature],dist='norm',plot=pylab)\n",
    "    plt.show()"
   ]
  },
  {
   "cell_type": "code",
   "execution_count": 6,
   "id": "9016fad7-bbf9-43dd-904e-2760a2fda9c7",
   "metadata": {},
   "outputs": [
    {
     "ename": "TypeError",
     "evalue": "plot_data() missing 1 required positional argument: 'feature'",
     "output_type": "error",
     "traceback": [
      "\u001b[0;31m---------------------------------------------------------------------------\u001b[0m",
      "\u001b[0;31mTypeError\u001b[0m                                 Traceback (most recent call last)",
      "Cell \u001b[0;32mIn[6], line 1\u001b[0m\n\u001b[0;32m----> 1\u001b[0m \u001b[43mplot_data\u001b[49m\u001b[43m(\u001b[49m\u001b[38;5;124;43m'\u001b[39;49m\u001b[38;5;124;43msample\u001b[39;49m\u001b[38;5;124;43m'\u001b[39;49m\u001b[43m)\u001b[49m\n",
      "\u001b[0;31mTypeError\u001b[0m: plot_data() missing 1 required positional argument: 'feature'"
     ]
    }
   ],
   "source": [
    "plot_data('sample')"
   ]
  },
  {
   "cell_type": "code",
   "execution_count": 8,
   "id": "84e5d806-5d83-4316-9a2b-63bd6b1a3ce1",
   "metadata": {},
   "outputs": [],
   "source": [
    "import math"
   ]
  },
  {
   "cell_type": "code",
   "execution_count": 11,
   "id": "6e50a4d2-9ee1-42a3-b819-a4440391f258",
   "metadata": {},
   "outputs": [],
   "source": [
    "def poisson_cdf(mean, k):\n",
    "    cdf = 0.0\n",
    "    for i in range(k + 1):\n",
    "         cdf += (mean ** i) * math.exp(-mean) / math.factorial(i)\n",
    "    return cdf"
   ]
  },
  {
   "cell_type": "code",
   "execution_count": 12,
   "id": "62252bc3-0192-4080-be21-13ffa6a20d90",
   "metadata": {},
   "outputs": [
    {
     "ename": "SyntaxError",
     "evalue": "invalid decimal literal (3819339498.py, line 1)",
     "output_type": "error",
     "traceback": [
      "\u001b[0;36m  Cell \u001b[0;32mIn[12], line 1\u001b[0;36m\u001b[0m\n\u001b[0;31m    7.The Binomial distribution and Poisson distribution are both probability distributions used to\u001b[0m\n\u001b[0m     ^\u001b[0m\n\u001b[0;31mSyntaxError\u001b[0m\u001b[0;31m:\u001b[0m invalid decimal literal\n"
     ]
    }
   ],
   "source": [
    "7.The Binomial distribution and Poisson distribution are both probability distributions used to\n",
    "model discrete random variables in statistics,but they have some key differences.\n",
    "\n",
    "The Binomial distribution is used for a fixed number of trials with two possible outcomes,\n",
    "while the Poisson distribution is used for modeling rare events occurring over a fixed interval of time or space.\n",
    "The Binomial distribution has two parameters (n and p), while the Poisson distribution has one parameter (λ).\n",
    "\n"
   ]
  },
  {
   "cell_type": "code",
   "execution_count": 14,
   "id": "a768f36d-e778-42c8-b2e6-54bee89c7ffe",
   "metadata": {},
   "outputs": [],
   "source": [
    "import numpy as np"
   ]
  },
  {
   "cell_type": "code",
   "execution_count": 15,
   "id": "9c08d26c-315e-4348-8933-77017f661099",
   "metadata": {},
   "outputs": [],
   "source": [
    "np.random.seed(42)\n",
    "sample_size = 1000\n",
    "mean = 5\n",
    "sample = np.random.poisson(lam=mean, size=sample_size)\n",
    "\n"
   ]
  },
  {
   "cell_type": "code",
   "execution_count": 16,
   "id": "28785777-7e0d-43d9-83ea-71c3a18588f3",
   "metadata": {},
   "outputs": [],
   "source": [
    "sample_mean = np.mean(sample)\n",
    "sample_variance = np.var(sample)"
   ]
  },
  {
   "cell_type": "code",
   "execution_count": 17,
   "id": "203714c7-bd7e-4976-b489-238fb47f51d8",
   "metadata": {},
   "outputs": [
    {
     "name": "stdout",
     "output_type": "stream",
     "text": [
      "Sample Mean: 4.9850\n",
      "Sample Variance: 4.9968\n"
     ]
    }
   ],
   "source": [
    "print(\"Sample Mean: {:.4f}\".format(sample_mean))\n",
    "print(\"Sample Variance: {:.4f}\".format(sample_variance))"
   ]
  },
  {
   "cell_type": "code",
   "execution_count": null,
   "id": "2137cfc8-a78e-4b6c-8fb5-dce668fea3b2",
   "metadata": {},
   "outputs": [],
   "source": [
    "9.In a Binomial distribution, which models the number of successes in a fixed number of independent Bernoulli trials with\n",
    "the same probability of success, the mean and variance are related as follows:\n",
    "    Mean (μ) = np\n",
    "    Variance (σ^2) = np(1-p)\n",
    "\n",
    "where:\n",
    "n = number of trials\n",
    "p = probability of success in a single trial\n",
    "\n",
    "In a Binomial distribution, the mean is equal to the product of the number of trials (n)\n",
    "and the probability of success in a single trial (p), while the variance is equal to the product\n",
    "of the number of trials (n), the probability of success in a single trial (p), and the probability of\n",
    "failure in a single trial (1-p).\n",
    "\n",
    "\n",
    "In a Poisson distribution, which models the number of events occurring in a fixed interval of time or space,\n",
    "the mean and variance are related as follows:\n",
    "    Mean (μ) = λ\n",
    "    Variance (σ^2) = λ\n",
    "\n",
    "where:\n",
    "λ = average rate or intensity of events\n",
    "\n",
    "In a Poisson distribution, the mean and variance are both equal to the average rate or intensity of events (λ). \n",
    "This means that in a Poisson distribution, the mean and variance are always the same.\n",
    "\n",
    "In summary, in a Binomial distribution, the mean is equal to np and the variance is equal to np(1-p),\n",
    "while in a Poisson distribution, the mean and variance are both equal to λ.\n",
    "\n",
    "\n",
    "\n",
    "10.In a normal distributionthe least frequent data points or values would typically appear in the tails of the distribution.\n",
    "\n"
   ]
  }
 ],
 "metadata": {
  "kernelspec": {
   "display_name": "Python 3 (ipykernel)",
   "language": "python",
   "name": "python3"
  },
  "language_info": {
   "codemirror_mode": {
    "name": "ipython",
    "version": 3
   },
   "file_extension": ".py",
   "mimetype": "text/x-python",
   "name": "python",
   "nbconvert_exporter": "python",
   "pygments_lexer": "ipython3",
   "version": "3.10.8"
  }
 },
 "nbformat": 4,
 "nbformat_minor": 5
}
